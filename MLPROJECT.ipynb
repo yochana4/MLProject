{
  "nbformat": 4,
  "nbformat_minor": 0,
  "metadata": {
    "colab": {
      "provenance": [],
      "authorship_tag": "ABX9TyPXT1qd7Wa7x0ywfgGwDocl",
      "include_colab_link": true
    },
    "kernelspec": {
      "name": "python3",
      "display_name": "Python 3"
    },
    "language_info": {
      "name": "python"
    }
  },
  "cells": [
    {
      "cell_type": "markdown",
      "metadata": {
        "id": "view-in-github",
        "colab_type": "text"
      },
      "source": [
        "<a href=\"https://colab.research.google.com/github/yochana4/MLProject/blob/main/MLPROJECT.ipynb\" target=\"_parent\"><img src=\"https://colab.research.google.com/assets/colab-badge.svg\" alt=\"Open In Colab\"/></a>"
      ]
    },
    {
      "cell_type": "markdown",
      "source": [
        "**Problem Statement:** Predicting Pregnancy Complications."
      ],
      "metadata": {
        "id": "0N5_I0ue8TX0"
      }
    },
    {
      "cell_type": "markdown",
      "source": [
        "**Naive Bayes Technique**"
      ],
      "metadata": {
        "id": "NAxKep1d5mAd"
      }
    },
    {
      "cell_type": "code",
      "execution_count": 2,
      "metadata": {
        "colab": {
          "base_uri": "https://localhost:8080/"
        },
        "id": "qv41lf2h5Ys9",
        "outputId": "b3c831f7-eeb5-47c3-c3af-386bed7ef56b"
      },
      "outputs": [
        {
          "output_type": "stream",
          "name": "stdout",
          "text": [
            "  Train-Test Ratio Accuracy (%)\n",
            "0            50:50        85.77\n",
            "1            60:40        85.72\n",
            "2            70:30        86.03\n",
            "3            80:20        86.20\n"
          ]
        }
      ],
      "source": [
        " import pandas as pd\n",
        " from sklearn.naive_bayes import GaussianNB\n",
        " from sklearn.metrics import accuracy_score\n",
        " # Load the generated dataset\n",
        " df = pd.read_csv(\"maternal_health_dataset.csv\")\n",
        " # Map categorical data (Yes/No and Risk_Level) to numerical values for the classifier\n",
        " df[\"Smoking_Status\"] = df[\"Smoking_Status\"].map({\"Yes\": 1, \"No\": 0})\n",
        " df[\"Alcohol_Use\"] = df[\"Alcohol_Use\"].map({\"Yes\": 1, \"No\": 0})\n",
        " df[\"Risk_Level\"] = df[\"Risk_Level\"].map({\"Low Risk\": 0, \"Mid Risk\": 1, \"High Risk\": 2})\n",
        " # Define features and target\n",
        " X = df.drop(columns=[\"Patient_ID\", \"Risk_Level\"])  # Drop Patient_ID as it's not a feature\n",
        " y = df[\"Risk_Level\"]\n",
        " # Define split ratios and initialize list for results\n",
        " split_ratios = [0.5, 0.6, 0.7, 0.8]\n",
        " results = []\n",
        " # Train and test with exact split ratios\n",
        " for ratio in split_ratios:\n",
        "    # Calculate exact number of training samples\n",
        "    train_size = int(ratio * len(df))\n",
        "\n",
        "    # Split data manually for exact ratios\n",
        "    X_train, X_test = X[:train_size], X[train_size:]\n",
        "    y_train, y_test = y[:train_size], y[train_size:]\n",
        "    # Initialize and train the Naive Bayes classifier\n",
        "    model = GaussianNB()\n",
        "    model.fit(X_train, y_train)\n",
        "    # Make predictions and calculate accuracy\n",
        "    y_pred = model.predict(X_test)\n",
        "    accuracy = accuracy_score(y_test, y_pred) * 100  # Convert to percentage\n",
        "    # Append results for the table output\n",
        "    train_ratio = int(ratio * 100)\n",
        "    test_ratio = 100 - train_ratio\n",
        "    results.append({\"Train-Test Ratio\": f\"{train_ratio}:{test_ratio}\", \"Accuracy (%)\": f\"{accuracy:.2f}\"})\n",
        " # Display results in a table\n",
        " results_df = pd.DataFrame(results)\n",
        " print(results_df)"
      ]
    },
    {
      "cell_type": "markdown",
      "source": [
        "**KNN Technique**"
      ],
      "metadata": {
        "id": "YBntFyc45uxQ"
      }
    },
    {
      "cell_type": "code",
      "source": [
        " import pandas as pd\n",
        " from sklearn.model_selection import train_test_split\n",
        " from sklearn.neighbors import KNeighborsClassifier\n",
        " from sklearn.metrics import accuracy_score\n",
        " # Load the generated dataset\n",
        " df = pd.read_csv(\"maternal_health_dataset.csv\")\n",
        " # Map categorical data (Yes/No and Risk_Level) to numerical values for the classifier\n",
        " df[\"Smoking_Status\"] = df[\"Smoking_Status\"].map({\"Yes\": 1, \"No\": 0})\n",
        " df[\"Alcohol_Use\"] = df[\"Alcohol_Use\"].map({\"Yes\": 1, \"No\": 0})\n",
        " df[\"Risk_Level\"] = df[\"Risk_Level\"].map({\"Low Risk\": 0, \"Mid Risk\": 1, \"High Risk\": 2})\n",
        " # Define features and target\n",
        " X = df.drop(columns=[\"Patient_ID\", \"Risk_Level\"])  # Drop Patient_ID as it's not a feature\n",
        " y = df[\"Risk_Level\"]\n",
        " # Define split ratios and initialize list for results\n",
        " split_ratios = [0.5, 0.6, 0.7, 0.8]\n",
        " results = []\n",
        " # Train and test with exact split ratios\n",
        " for ratio in split_ratios:\n",
        "    # Calculate exact number of training samples\n",
        "    train_size = int(ratio * len(df))\n",
        "\n",
        "    # Split data manually for exact ratios\n",
        "    X_train, X_test = X[:train_size], X[train_size:]\n",
        "    y_train, y_test = y[:train_size], y[train_size:]\n",
        "    # Initialize and train the KNN classifier with a chosen number of neighbors (e.g., 5)\n",
        "    model = KNeighborsClassifier(n_neighbors=5)\n",
        "    model.fit(X_train, y_train)\n",
        "    # Make predictions and calculate accuracy\n",
        "    y_pred = model.predict(X_test)\n",
        "    accuracy = accuracy_score(y_test, y_pred) * 100  # Convert to percentage\n",
        "    # Append results for the table output\n",
        "    train_ratio = int(ratio * 100)\n",
        "    test_ratio = 100 - train_ratio\n",
        "    results.append({\"Train-Test Ratio\": f\"{train_ratio}:{test_ratio}\", \"Accuracy (%)\": f\"{accuracy:.2f}\"})\n",
        " # Display results in a table\n",
        " results_df = pd.DataFrame(results)\n",
        " print(results_df)"
      ],
      "metadata": {
        "colab": {
          "base_uri": "https://localhost:8080/"
        },
        "id": "w6_KUkM450cF",
        "outputId": "8caefa4f-bb67-4bac-c91c-3c803e298cfa"
      },
      "execution_count": 4,
      "outputs": [
        {
          "output_type": "stream",
          "name": "stdout",
          "text": [
            "  Train-Test Ratio Accuracy (%)\n",
            "0            50:50        94.44\n",
            "1            60:40        94.55\n",
            "2            70:30        94.57\n",
            "3            80:20        94.67\n"
          ]
        }
      ]
    },
    {
      "cell_type": "markdown",
      "source": [
        "**Linear Regression Technique**"
      ],
      "metadata": {
        "id": "wpKoLxOc5_lc"
      }
    },
    {
      "cell_type": "code",
      "source": [
        " import numpy as np\n",
        " import pandas as pd\n",
        " from sklearn.metrics import accuracy_score\n",
        " # Load the generated dataset\n",
        " df = pd.read_csv(\"maternal_health_dataset.csv\")\n",
        " # Map categorical data (Yes/No and Risk_Level) to numerical values for the model\n",
        " df[\"Smoking_Status\"] = df[\"Smoking_Status\"].map({\"Yes\": 1, \"No\": 0})\n",
        " df[\"Alcohol_Use\"] = df[\"Alcohol_Use\"].map({\"Yes\": 1, \"No\": 0})\n",
        " # Map Risk_Level to numerical values for classification (0 = Low, 1 = Mid, 2 = High)\n",
        " df[\"Risk_Level\"] = df[\"Risk_Level\"].map({\"Low Risk\": 0, \"Mid Risk\": 1, \"High Risk\": 2})\n",
        " # Define features and target\n",
        " X = df.drop(columns=[\"Patient_ID\", \"Risk_Level\"])  # Drop Patient_ID as it's not a feature\n",
        " y = df[\"Risk_Level\"]\n",
        " # Add a column of ones to X for the intercept term (bias)\n",
        " X = np.c_[np.ones(X.shape[0]), X]  # Add a column of ones as the first column in X\n",
        " # Define split ratios and initialize list for results\n",
        " split_ratios = [0.5, 0.6, 0.7, 0.8]\n",
        " results = []\n",
        " # Train and test with exact split ratios\n",
        " for ratio in split_ratios:\n",
        "    # Calculate exact number of training samples\n",
        "    train_size = int(ratio * len(df))\n",
        "    test_size = len(df) - train_size  # Remaining samples for testing\n",
        "    # Split data manually for exact ratios\n",
        "    X_train, X_test = X[:train_size], X[train_size:]\n",
        "    y_train, y_test = y[:train_size], y[train_size:]\n",
        "    # Calculate the coefficients (beta) using the Normal Equation\n",
        "    # β = (X^T * X)^(-1) * X^T * y\n",
        "    X_train_T = X_train.T\n",
        "    beta = np.linalg.inv(X_train_T.dot(X_train)).dot(X_train_T).dot(y_train)\n",
        "    # Make predictions on the test set\n",
        "    y_pred = X_test.dot(beta)  # Here beta already includes the intercept\n",
        "    # Round predictions to nearest integer and calculate accuracy\n",
        "    y_pred_class = np.round(y_pred)  # Convert predictions to nearest class (0, 1, or 2)\n",
        "\n",
        "    # Ensure that predicted classes stay within valid range (0, 1, 2)\n",
        "    y_pred_class = np.clip(y_pred_class, 0, 2)\n",
        "    # Calculate accuracy as percentage\n",
        "    accuracy = accuracy_score(y_test, y_pred_class) * 100  # Multiply by 100 for percentage\n",
        "\n",
        "    # Append the result for the current ratio\n",
        "    results.append({\n",
        "        \"Train-Test Ratio\": f\"{int(ratio*100)}:{100 - int(ratio*100)}\",  # Display ratio as exact integers\n",
        "        \"Accuracy (%)\": f\"{accuracy:.2f}\"  # Format accuracy to 2 decimal places\n",
        "    })\n",
        " # Display results in a table\n",
        " results_df = pd.DataFrame(results)\n",
        " print(results_df)"
      ],
      "metadata": {
        "colab": {
          "base_uri": "https://localhost:8080/"
        },
        "id": "7AQ36unF6E_A",
        "outputId": "4eea7411-f59b-4a0b-fa51-891ae334237a"
      },
      "execution_count": 6,
      "outputs": [
        {
          "output_type": "stream",
          "name": "stdout",
          "text": [
            "  Train-Test Ratio Accuracy (%)\n",
            "0            50:50        94.69\n",
            "1            60:40        94.77\n",
            "2            70:30        94.83\n",
            "3            80:20        94.91\n"
          ]
        }
      ]
    },
    {
      "cell_type": "markdown",
      "source": [
        "**Logistic Regression Technique**"
      ],
      "metadata": {
        "id": "9WJFHe3G6UCY"
      }
    },
    {
      "cell_type": "code",
      "source": [
        " import numpy as np\n",
        " import pandas as pd\n",
        " from sklearn.linear_model import LogisticRegression\n",
        " from sklearn.metrics import accuracy_score\n",
        " from sklearn.model_selection import train_test_split\n",
        " # Load the generated dataset (1 Lakh records)\n",
        " df = pd.read_csv(\"maternal_health_dataset.csv\")\n",
        " # Map categorical data (Yes/No and Risk_Level) to numerical values for the model\n",
        " df[\"Smoking_Status\"] = df[\"Smoking_Status\"].map({\"Yes\": 1, \"No\": 0})\n",
        " df[\"Alcohol_Use\"] = df[\"Alcohol_Use\"].map({\"Yes\": 1, \"No\": 0})\n",
        " # Map Risk_Level to numerical values for classification (0 = Low, 1 = Mid, 2 = High)\n",
        " df[\"Risk_Level\"] = df[\"Risk_Level\"].map({\"Low Risk\": 0, \"Mid Risk\": 1, \"High Risk\": 2})\n",
        " # Define features and target\n",
        " X = df.drop(columns=[\"Patient_ID\", \"Risk_Level\"])  # Drop Patient_ID as it's not a feature\n",
        " y = df[\"Risk_Level\"]\n",
        " # Define split ratios and initialize list for results\n",
        " split_ratios = [0.5, 0.6, 0.7, 0.8]\n",
        " results = []\n",
        " # Train and test with exact split ratios\n",
        " for ratio in split_ratios:\n",
        "    # Calculate the number of training and testing samples to ensure exact ratios\n",
        "    train_size = int(ratio * len(df))\n",
        "    test_size = len(df) - train_size\n",
        "    # Manually split data for exact ratios with train_test_split\n",
        "    X_train, X_test, y_train, y_test = train_test_split(\n",
        "        X, y, train_size=train_size, test_size=test_size, shuffle=True, random_state=42\n",
        "    )\n",
        "\n",
        "    # Initialize Logistic Regression model with a high iteration count for large data\n",
        "    model = LogisticRegression(max_iter=2000, solver='lbfgs', multi_class='ovr')\n",
        "    # Train the model\n",
        "    model.fit(X_train, y_train)\n",
        "    # Make predictions on the test set\n",
        "    y_pred = model.predict(X_test)\n",
        "    # Calculate accuracy as a percentage\n",
        "    accuracy = accuracy_score(y_test, y_pred) * 100  # Multiply by 100 for percentage\n",
        "\n",
        "    # Append results for the current ratio\n",
        "    results.append({\n",
        "        \"Train-Test Ratio\": f\"{int(ratio*100)}:{100 - int(ratio*100)}\",\n",
        "        \"Accuracy (%)\": f\"{accuracy:.2f}\"\n",
        "    })\n",
        " # Display results in a table\n",
        " results_df = pd.DataFrame(results)\n",
        " print(results_df)"
      ],
      "metadata": {
        "colab": {
          "base_uri": "https://localhost:8080/"
        },
        "id": "pNYORQa86gUO",
        "outputId": "29f2c930-8bb7-487f-b5ac-362d8c8e09d1"
      },
      "execution_count": 7,
      "outputs": [
        {
          "output_type": "stream",
          "name": "stderr",
          "text": [
            "/usr/local/lib/python3.10/dist-packages/sklearn/linear_model/_logistic.py:1256: FutureWarning: 'multi_class' was deprecated in version 1.5 and will be removed in 1.7. Use OneVsRestClassifier(LogisticRegression(..)) instead. Leave it to its default value to avoid this warning.\n",
            "  warnings.warn(\n",
            "/usr/local/lib/python3.10/dist-packages/sklearn/linear_model/_logistic.py:1256: FutureWarning: 'multi_class' was deprecated in version 1.5 and will be removed in 1.7. Use OneVsRestClassifier(LogisticRegression(..)) instead. Leave it to its default value to avoid this warning.\n",
            "  warnings.warn(\n",
            "/usr/local/lib/python3.10/dist-packages/sklearn/linear_model/_logistic.py:1256: FutureWarning: 'multi_class' was deprecated in version 1.5 and will be removed in 1.7. Use OneVsRestClassifier(LogisticRegression(..)) instead. Leave it to its default value to avoid this warning.\n",
            "  warnings.warn(\n",
            "/usr/local/lib/python3.10/dist-packages/sklearn/linear_model/_logistic.py:1256: FutureWarning: 'multi_class' was deprecated in version 1.5 and will be removed in 1.7. Use OneVsRestClassifier(LogisticRegression(..)) instead. Leave it to its default value to avoid this warning.\n",
            "  warnings.warn(\n"
          ]
        },
        {
          "output_type": "stream",
          "name": "stdout",
          "text": [
            "  Train-Test Ratio Accuracy (%)\n",
            "0            50:50        95.51\n",
            "1            60:40        95.54\n",
            "2            70:30        95.60\n",
            "3            80:20        95.61\n"
          ]
        }
      ]
    }
  ]
}